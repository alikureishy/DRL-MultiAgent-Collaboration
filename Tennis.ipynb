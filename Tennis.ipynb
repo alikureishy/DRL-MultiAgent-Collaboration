{
 "cells": [
  {
   "cell_type": "markdown",
   "metadata": {},
   "source": [
    "# Collaboration and Competition\n",
    "\n",
    "---\n",
    "\n",
    "In this notebook, you will learn how to use the Unity ML-Agents environment for the third project of the [Deep Reinforcement Learning Nanodegree](https://www.udacity.com/course/deep-reinforcement-learning-nanodegree--nd893) program.\n",
    "\n",
    "### 1. Start the Environment\n",
    "\n",
    "We begin by importing the necessary packages.  If the code cell below returns an error, please revisit the project instructions to double-check that you have installed [Unity ML-Agents](https://github.com/Unity-Technologies/ml-agents/blob/master/docs/Installation.md) and [NumPy](http://www.numpy.org/)."
   ]
  },
  {
   "cell_type": "code",
   "execution_count": 1,
   "metadata": {},
   "outputs": [],
   "source": [
    "from unityagents import UnityEnvironment\n",
    "import numpy as np"
   ]
  },
  {
   "cell_type": "markdown",
   "metadata": {},
   "source": [
    "Next, we will start the environment!  **_Before running the code cell below_**, change the `file_name` parameter to match the location of the Unity environment that you downloaded.\n",
    "\n",
    "- **Mac**: `\"path/to/Tennis.app\"`\n",
    "- **Windows** (x86): `\"path/to/Tennis_Windows_x86/Tennis.exe\"`\n",
    "- **Windows** (x86_64): `\"path/to/Tennis_Windows_x86_64/Tennis.exe\"`\n",
    "- **Linux** (x86): `\"path/to/Tennis_Linux/Tennis.x86\"`\n",
    "- **Linux** (x86_64): `\"path/to/Tennis_Linux/Tennis.x86_64\"`\n",
    "- **Linux** (x86, headless): `\"path/to/Tennis_Linux_NoVis/Tennis.x86\"`\n",
    "- **Linux** (x86_64, headless): `\"path/to/Tennis_Linux_NoVis/Tennis.x86_64\"`\n",
    "\n",
    "For instance, if you are using a Mac, then you downloaded `Tennis.app`.  If this file is in the same folder as the notebook, then the line below should appear as follows:\n",
    "```\n",
    "env = UnityEnvironment(file_name=\"Tennis.app\")\n",
    "```"
   ]
  },
  {
   "cell_type": "code",
   "execution_count": 2,
   "metadata": {},
   "outputs": [
    {
     "name": "stderr",
     "output_type": "stream",
     "text": [
      "INFO:unityagents:\n",
      "'Academy' started successfully!\n",
      "Unity Academy name: Academy\n",
      "        Number of Brains: 1\n",
      "        Number of External Brains : 1\n",
      "        Lesson number : 0\n",
      "        Reset Parameters :\n",
      "\t\t\n",
      "Unity brain name: TennisBrain\n",
      "        Number of Visual Observations (per agent): 0\n",
      "        Vector Observation space type: continuous\n",
      "        Vector Observation space size (per agent): 8\n",
      "        Number of stacked Vector Observation: 3\n",
      "        Vector Action space type: continuous\n",
      "        Vector Action space size (per agent): 2\n",
      "        Vector Action descriptions: , \n"
     ]
    }
   ],
   "source": [
    "env = UnityEnvironment(file_name=\"Tennis_Linux/Tennis.x86_64\")"
   ]
  },
  {
   "cell_type": "markdown",
   "metadata": {},
   "source": [
    "Environments contain **_brains_** which are responsible for deciding the actions of their associated agents. Here we check for the first brain available, and set it as the default brain we will be controlling from Python."
   ]
  },
  {
   "cell_type": "code",
   "execution_count": 3,
   "metadata": {},
   "outputs": [],
   "source": [
    "# get the default brain\n",
    "brain_name = env.brain_names[0]\n",
    "brain = env.brains[brain_name]"
   ]
  },
  {
   "cell_type": "markdown",
   "metadata": {},
   "source": [
    "### 2. Examine the State and Action Spaces\n",
    "\n",
    "In this environment, two agents control rackets to bounce a ball over a net. If an agent hits the ball over the net, it receives a reward of +0.1.  If an agent lets a ball hit the ground or hits the ball out of bounds, it receives a reward of -0.01.  Thus, the goal of each agent is to keep the ball in play.\n",
    "\n",
    "The observation space consists of 8 variables corresponding to the position and velocity of the ball and racket. Two continuous actions are available, corresponding to movement toward (or away from) the net, and jumping. \n",
    "\n",
    "Run the code cell below to print some information about the environment."
   ]
  },
  {
   "cell_type": "code",
   "execution_count": 4,
   "metadata": {},
   "outputs": [
    {
     "name": "stdout",
     "output_type": "stream",
     "text": [
      "Seed:  1\n",
      "Brain names:  ['TennisBrain']\n",
      "{'TennisBrain': <unityagents.brain.BrainParameters object at 0x7faf0fcd8ef0>}\n",
      "Number of agents: 2\n",
      "Size of each action: 2\n",
      "Type of action space: continuous\n",
      "There are 2 agents. Each observes a state with length: 24 and takes an action of size 2\n",
      "Type of state space: continuous\n",
      "State vector type:  (2, 24)\n",
      "The state for the 2 agents looks like:\n",
      " [[ 0.          0.          0.          0.          0.          0.\n",
      "   0.          0.          0.          0.          0.          0.\n",
      "   0.          0.          0.          0.         -6.65278625 -1.5\n",
      "  -0.          0.          6.83172083  6.         -0.          0.        ]\n",
      " [ 0.          0.          0.          0.          0.          0.\n",
      "   0.          0.          0.          0.          0.          0.\n",
      "   0.          0.          0.          0.         -6.4669857  -1.5\n",
      "   0.          0.         -6.83172083  6.          0.          0.        ]]\n"
     ]
    }
   ],
   "source": [
    "from trainer import Trainer\n",
    "from tracker import TrackerFactory\n",
    "from agent import AgentFactory\n",
    "\n",
    "agent_factory = AgentFactory()\n",
    "tracker_factory = TrackerFactory()\n",
    "\n",
    "trainer = Trainer(env, agent_factory, tracker_factory)\n",
    "trainer.describe_environment()\n"
   ]
  },
  {
   "cell_type": "markdown",
   "metadata": {},
   "source": [
    "### 3. Take Random Actions in the Environment\n",
    "\n",
    "In the next code cell, you will learn how to use the Python API to control the agents and receive feedback from the environment.\n",
    "\n",
    "Once this cell is executed, you will watch the agents' performance, if they select actions at random with each time step.  A window should pop up that allows you to observe the agents.\n",
    "\n",
    "Of course, as part of the project, you'll have to change the code so that the agents are able to use their experiences to gradually choose better actions when interacting with the environment!"
   ]
  },
  {
   "cell_type": "code",
   "execution_count": 5,
   "metadata": {},
   "outputs": [
    {
     "name": "stdout",
     "output_type": "stream",
     "text": [
      "Agent is using:  cuda:0\n",
      "Episode :: 0\tScores:\tCentennial: 0.000\tMean: -0.005\tMin: -0.010\tMax:0.000\tDuration: 0.03s\n",
      "Episode :: 1\tScores:\tCentennial: 0.000\tMean: -0.005\tMin: -0.010\tMax:0.000\tDuration: 0.07s\n",
      "Episode :: 2\tScores:\tCentennial: 0.000\tMean: -0.005\tMin: -0.010\tMax:0.000\tDuration: 0.03s\n",
      "Episode :: 3\tScores:\tCentennial: 0.000\tMean: -0.005\tMin: -0.010\tMax:0.000\tDuration: 0.02s\n",
      "Episode :: 4\tScores:\tCentennial: 0.020\tMean: 0.045\tMin: -0.010\tMax:0.100\tDuration: 0.04s\n",
      "Episode :: 5\tScores:\tCentennial: 0.017\tMean: -0.005\tMin: -0.010\tMax:0.000\tDuration: 0.02s\n",
      "Episode :: 6\tScores:\tCentennial: 0.014\tMean: -0.005\tMin: -0.010\tMax:0.000\tDuration: 0.02s\n",
      "Episode :: 7\tScores:\tCentennial: 0.013\tMean: -0.005\tMin: -0.010\tMax:0.000\tDuration: 0.02s\n",
      "Episode :: 8\tScores:\tCentennial: 0.011\tMean: -0.005\tMin: -0.010\tMax:0.000\tDuration: 0.02s\n",
      "Episode :: 9\tScores:\tCentennial: 0.010\tMean: -0.005\tMin: -0.010\tMax:0.000\tDuration: 0.02s\n",
      "Episode :: 10\tScores:\tCentennial: 0.009\tMean: -0.005\tMin: -0.010\tMax:0.000\tDuration: 0.02s\n",
      "Episode :: 11\tScores:\tCentennial: 0.008\tMean: -0.005\tMin: -0.010\tMax:0.000\tDuration: 0.02s\n",
      "Episode :: 12\tScores:\tCentennial: 0.008\tMean: -0.005\tMin: -0.010\tMax:0.000\tDuration: 0.02s\n",
      "Episode :: 13\tScores:\tCentennial: 0.007\tMean: -0.005\tMin: -0.010\tMax:0.000\tDuration: 0.02s\n",
      "Episode :: 14\tScores:\tCentennial: 0.007\tMean: -0.005\tMin: -0.010\tMax:0.000\tDuration: 0.02s\n",
      "Episode :: 15\tScores:\tCentennial: 0.006\tMean: -0.005\tMin: -0.010\tMax:0.000\tDuration: 0.02s\n",
      "Episode :: 16\tScores:\tCentennial: 0.006\tMean: -0.005\tMin: -0.010\tMax:0.000\tDuration: 0.02s\n",
      "Episode :: 17\tScores:\tCentennial: 0.006\tMean: -0.005\tMin: -0.010\tMax:0.000\tDuration: 0.18s\n",
      "Episode :: 18\tScores:\tCentennial: 0.005\tMean: -0.005\tMin: -0.010\tMax:0.000\tDuration: 0.10s\n",
      "Episode :: 19\tScores:\tCentennial: 0.005\tMean: -0.005\tMin: -0.010\tMax:0.000\tDuration: 0.17s\n",
      "Episode :: 20\tScores:\tCentennial: 0.005\tMean: -0.005\tMin: -0.010\tMax:0.000\tDuration: 0.10s\n",
      "Episode :: 21\tScores:\tCentennial: 0.005\tMean: -0.005\tMin: -0.010\tMax:0.000\tDuration: 0.18s\n",
      "Episode :: 22\tScores:\tCentennial: 0.004\tMean: -0.005\tMin: -0.010\tMax:0.000\tDuration: 0.10s\n",
      "Episode :: 23\tScores:\tCentennial: 0.004\tMean: -0.005\tMin: -0.010\tMax:0.000\tDuration: 0.10s\n",
      "Episode :: 24\tScores:\tCentennial: 0.004\tMean: -0.005\tMin: -0.010\tMax:0.000\tDuration: 0.18s\n",
      "Episode :: 25\tScores:\tCentennial: 0.004\tMean: -0.005\tMin: -0.010\tMax:0.000\tDuration: 0.10s\n",
      "Episode :: 26\tScores:\tCentennial: 0.004\tMean: -0.005\tMin: -0.010\tMax:0.000\tDuration: 0.18s\n",
      "Episode :: 27\tScores:\tCentennial: 0.004\tMean: -0.005\tMin: -0.010\tMax:0.000\tDuration: 0.10s\n",
      "Episode :: 28\tScores:\tCentennial: 0.003\tMean: -0.005\tMin: -0.010\tMax:0.000\tDuration: 0.17s\n",
      "Episode :: 29\tScores:\tCentennial: 0.003\tMean: -0.005\tMin: -0.010\tMax:0.000\tDuration: 0.09s\n",
      "Episode :: 30\tScores:\tCentennial: 0.003\tMean: -0.005\tMin: -0.010\tMax:0.000\tDuration: 0.10s\n",
      "Episode :: 31\tScores:\tCentennial: 0.003\tMean: -0.005\tMin: -0.010\tMax:0.000\tDuration: 0.18s\n",
      "Episode :: 32\tScores:\tCentennial: 0.003\tMean: -0.005\tMin: -0.010\tMax:0.000\tDuration: 0.10s\n",
      "Episode :: 33\tScores:\tCentennial: 0.003\tMean: -0.005\tMin: -0.010\tMax:0.000\tDuration: 0.18s\n",
      "Episode :: 34\tScores:\tCentennial: 0.003\tMean: -0.005\tMin: -0.010\tMax:0.000\tDuration: 0.10s\n",
      "Episode :: 35\tScores:\tCentennial: 0.003\tMean: -0.005\tMin: -0.010\tMax:0.000\tDuration: 0.10s\n",
      "Episode :: 36\tScores:\tCentennial: 0.003\tMean: -0.005\tMin: -0.010\tMax:0.000\tDuration: 0.18s\n",
      "Episode :: 37\tScores:\tCentennial: 0.003\tMean: -0.005\tMin: -0.010\tMax:0.000\tDuration: 0.10s\n",
      "Episode :: 38\tScores:\tCentennial: 0.003\tMean: -0.005\tMin: -0.010\tMax:0.000\tDuration: 0.18s\n",
      "Episode :: 39\tScores:\tCentennial: 0.002\tMean: -0.005\tMin: -0.010\tMax:0.000\tDuration: 0.10s\n",
      "Episode :: 40\tScores:\tCentennial: 0.002\tMean: -0.005\tMin: -0.010\tMax:0.000\tDuration: 0.18s\n",
      "Episode :: 41\tScores:\tCentennial: 0.002\tMean: -0.005\tMin: -0.010\tMax:0.000\tDuration: 0.10s\n",
      "Episode :: 42\tScores:\tCentennial: 0.002\tMean: -0.005\tMin: -0.010\tMax:0.000\tDuration: 0.10s\n",
      "Episode :: 43\tScores:\tCentennial: 0.002\tMean: -0.005\tMin: -0.010\tMax:0.000\tDuration: 0.18s\n",
      "Episode :: 44\tScores:\tCentennial: 0.002\tMean: -0.005\tMin: -0.010\tMax:0.000\tDuration: 0.10s\n",
      "Episode :: 45\tScores:\tCentennial: 0.002\tMean: -0.005\tMin: -0.010\tMax:0.000\tDuration: 0.19s\n",
      "Episode :: 46\tScores:\tCentennial: 0.002\tMean: -0.005\tMin: -0.010\tMax:0.000\tDuration: 0.10s\n",
      "Episode :: 47\tScores:\tCentennial: 0.002\tMean: -0.005\tMin: -0.010\tMax:0.000\tDuration: 0.19s\n",
      "Episode :: 48\tScores:\tCentennial: 0.002\tMean: -0.005\tMin: -0.010\tMax:0.000\tDuration: 0.10s\n",
      "Episode :: 49\tScores:\tCentennial: 0.002\tMean: -0.005\tMin: -0.010\tMax:0.000\tDuration: 0.10s\n",
      "Episode :: 50\tScores:\tCentennial: 0.002\tMean: -0.005\tMin: -0.010\tMax:0.000\tDuration: 0.18s\n",
      "Episode :: 51\tScores:\tCentennial: 0.002\tMean: -0.005\tMin: -0.010\tMax:0.000\tDuration: 0.11s\n",
      "Episode :: 52\tScores:\tCentennial: 0.002\tMean: -0.005\tMin: -0.010\tMax:0.000\tDuration: 0.19s\n",
      "Episode :: 53\tScores:\tCentennial: 0.002\tMean: -0.005\tMin: -0.010\tMax:0.000\tDuration: 0.10s\n",
      "Episode :: 54\tScores:\tCentennial: 0.002\tMean: -0.005\tMin: -0.010\tMax:0.000\tDuration: 0.10s\n",
      "Episode :: 55\tScores:\tCentennial: 0.002\tMean: -0.005\tMin: -0.010\tMax:0.000\tDuration: 0.18s\n",
      "Episode :: 56\tScores:\tCentennial: 0.002\tMean: -0.005\tMin: -0.010\tMax:0.000\tDuration: 0.10s\n",
      "Episode :: 57\tScores:\tCentennial: 0.002\tMean: -0.005\tMin: -0.010\tMax:0.000\tDuration: 0.18s\n",
      "Episode :: 58\tScores:\tCentennial: 0.002\tMean: -0.005\tMin: -0.010\tMax:0.000\tDuration: 0.10s\n",
      "Episode :: 59\tScores:\tCentennial: 0.002\tMean: -0.005\tMin: -0.010\tMax:0.000\tDuration: 0.18s\n",
      "Episode :: 60\tScores:\tCentennial: 0.002\tMean: -0.005\tMin: -0.010\tMax:0.000\tDuration: 0.11s\n",
      "Episode :: 61\tScores:\tCentennial: 0.002\tMean: -0.005\tMin: -0.010\tMax:0.000\tDuration: 0.12s\n",
      "Episode :: 62\tScores:\tCentennial: 0.002\tMean: -0.005\tMin: -0.010\tMax:0.000\tDuration: 0.19s\n",
      "Episode :: 63\tScores:\tCentennial: 0.002\tMean: -0.005\tMin: -0.010\tMax:0.000\tDuration: 0.10s\n",
      "Episode :: 64\tScores:\tCentennial: 0.002\tMean: -0.005\tMin: -0.010\tMax:0.000\tDuration: 0.20s\n",
      "Episode :: 65\tScores:\tCentennial: 0.002\tMean: -0.005\tMin: -0.010\tMax:0.000\tDuration: 0.12s\n",
      "Episode :: 66\tScores:\tCentennial: 0.001\tMean: -0.005\tMin: -0.010\tMax:0.000\tDuration: 0.11s\n",
      "Episode :: 67\tScores:\tCentennial: 0.001\tMean: -0.005\tMin: -0.010\tMax:0.000\tDuration: 0.19s\n",
      "Episode :: 68\tScores:\tCentennial: 0.001\tMean: -0.005\tMin: -0.010\tMax:0.000\tDuration: 0.11s\n",
      "Episode :: 69\tScores:\tCentennial: 0.001\tMean: -0.005\tMin: -0.010\tMax:0.000\tDuration: 0.18s\n",
      "Episode :: 70\tScores:\tCentennial: 0.001\tMean: -0.005\tMin: -0.010\tMax:0.000\tDuration: 0.11s\n",
      "Episode :: 71\tScores:\tCentennial: 0.001\tMean: -0.005\tMin: -0.010\tMax:0.000\tDuration: 0.20s\n",
      "Episode :: 72\tScores:\tCentennial: 0.001\tMean: -0.005\tMin: -0.010\tMax:0.000\tDuration: 0.12s\n",
      "Episode :: 73\tScores:\tCentennial: 0.001\tMean: -0.005\tMin: -0.010\tMax:0.000\tDuration: 0.11s\n",
      "Episode :: 74\tScores:\tCentennial: 0.001\tMean: -0.005\tMin: -0.010\tMax:0.000\tDuration: 0.20s\n",
      "Episode :: 75\tScores:\tCentennial: 0.001\tMean: -0.005\tMin: -0.010\tMax:0.000\tDuration: 0.11s\n",
      "Episode :: 76\tScores:\tCentennial: 0.001\tMean: -0.005\tMin: -0.010\tMax:0.000\tDuration: 0.18s\n",
      "Episode :: 77\tScores:\tCentennial: 0.001\tMean: -0.005\tMin: -0.010\tMax:0.000\tDuration: 0.10s\n",
      "Episode :: 78\tScores:\tCentennial: 0.001\tMean: -0.005\tMin: -0.010\tMax:0.000\tDuration: 0.18s\n",
      "Episode :: 79\tScores:\tCentennial: 0.001\tMean: -0.005\tMin: -0.010\tMax:0.000\tDuration: 0.10s\n",
      "Episode :: 80\tScores:\tCentennial: 0.001\tMean: -0.005\tMin: -0.010\tMax:0.000\tDuration: 0.10s\n",
      "Episode :: 81\tScores:\tCentennial: 0.001\tMean: -0.005\tMin: -0.010\tMax:0.000\tDuration: 0.18s\n",
      "Episode :: 82\tScores:\tCentennial: 0.001\tMean: -0.005\tMin: -0.010\tMax:0.000\tDuration: 0.10s\n",
      "Episode :: 83\tScores:\tCentennial: 0.001\tMean: -0.005\tMin: -0.010\tMax:0.000\tDuration: 0.18s\n",
      "Episode :: 84\tScores:\tCentennial: 0.001\tMean: -0.005\tMin: -0.010\tMax:0.000\tDuration: 0.10s\n",
      "Episode :: 85\tScores:\tCentennial: 0.001\tMean: -0.005\tMin: -0.010\tMax:0.000\tDuration: 0.10s\n",
      "Episode :: 86\tScores:\tCentennial: 0.001\tMean: -0.005\tMin: -0.010\tMax:0.000\tDuration: 0.18s\n",
      "Episode :: 87\tScores:\tCentennial: 0.001\tMean: -0.005\tMin: -0.010\tMax:0.000\tDuration: 0.11s\n",
      "Episode :: 88\tScores:\tCentennial: 0.001\tMean: -0.005\tMin: -0.010\tMax:0.000\tDuration: 0.18s\n",
      "Episode :: 89\tScores:\tCentennial: 0.001\tMean: -0.005\tMin: -0.010\tMax:0.000\tDuration: 0.10s\n",
      "Episode :: 90\tScores:\tCentennial: 0.001\tMean: -0.005\tMin: -0.010\tMax:0.000\tDuration: 0.18s\n"
     ]
    },
    {
     "name": "stdout",
     "output_type": "stream",
     "text": [
      "Episode :: 91\tScores:\tCentennial: 0.001\tMean: -0.005\tMin: -0.010\tMax:0.000\tDuration: 0.10s\n",
      "Episode :: 92\tScores:\tCentennial: 0.001\tMean: -0.005\tMin: -0.010\tMax:0.000\tDuration: 0.11s\n",
      "Episode :: 93\tScores:\tCentennial: 0.001\tMean: -0.005\tMin: -0.010\tMax:0.000\tDuration: 0.20s\n",
      "Episode :: 94\tScores:\tCentennial: 0.001\tMean: -0.005\tMin: -0.010\tMax:0.000\tDuration: 0.11s\n",
      "Episode :: 95\tScores:\tCentennial: 0.001\tMean: -0.005\tMin: -0.010\tMax:0.000\tDuration: 0.20s\n",
      "Episode :: 96\tScores:\tCentennial: 0.001\tMean: -0.005\tMin: -0.010\tMax:0.000\tDuration: 0.11s\n",
      "Episode :: 97\tScores:\tCentennial: 0.001\tMean: -0.005\tMin: -0.010\tMax:0.000\tDuration: 0.20s\n",
      "Episode :: 98\tScores:\tCentennial: 0.001\tMean: -0.005\tMin: -0.010\tMax:0.000\tDuration: 0.11s\n",
      "Episode :: 99\tScores:\tCentennial: 0.001\tMean: -0.005\tMin: -0.010\tMax:0.000\tDuration: 0.11s\n",
      "Episode :: 100\tScores:\tCentennial: 0.001\tMean: -0.005\tMin: -0.010\tMax:0.000\tDuration: 0.20s\n"
     ]
    },
    {
     "data": {
      "image/png": "[encoded data removed]",
      "text/plain": [
       "<Figure size 432x288 with 1 Axes>"
      ]
     },
     "metadata": {
      "needs_background": "light"
     },
     "output_type": "display_data"
    },
    {
     "data": {
      "image/png": "[encoded data removed]",
      "text/plain": [
       "<Figure size 432x288 with 1 Axes>"
      ]
     },
     "metadata": {
      "needs_background": "light"
     },
     "output_type": "display_data"
    },
    {
     "data": {
      "image/png": "[encoded data removed]",
      "text/plain": [
       "<Figure size 432x288 with 1 Axes>"
      ]
     },
     "metadata": {
      "needs_background": "light"
     },
     "output_type": "display_data"
    },
    {
     "data": {
      "image/png": "[encoded data removed]",
      "text/plain": [
       "<Figure size 432x288 with 1 Axes>"
      ]
     },
     "metadata": {
      "needs_background": "light"
     },
     "output_type": "display_data"
    },
    {
     "name": "stdout",
     "output_type": "stream",
     "text": [
      "Episode :: 101\tScores:\tCentennial: 0.001\tMean: -0.005\tMin: -0.010\tMax:0.000\tDuration: 0.10s\n",
      "Episode :: 102\tScores:\tCentennial: 0.001\tMean: -0.005\tMin: -0.010\tMax:0.000\tDuration: 0.18s\n",
      "Episode :: 103\tScores:\tCentennial: 0.001\tMean: -0.005\tMin: -0.010\tMax:0.000\tDuration: 0.10s\n",
      "Episode :: 104\tScores:\tCentennial: 0.000\tMean: -0.005\tMin: -0.010\tMax:0.000\tDuration: 0.10s\n",
      "Episode :: 105\tScores:\tCentennial: 0.000\tMean: -0.005\tMin: -0.010\tMax:0.000\tDuration: 0.18s\n",
      "Episode :: 106\tScores:\tCentennial: 0.000\tMean: -0.005\tMin: -0.010\tMax:0.000\tDuration: 0.10s\n",
      "Episode :: 107\tScores:\tCentennial: 0.000\tMean: -0.005\tMin: -0.010\tMax:0.000\tDuration: 0.20s\n",
      "Episode :: 108\tScores:\tCentennial: 0.000\tMean: -0.005\tMin: -0.010\tMax:0.000\tDuration: 0.11s\n",
      "Episode :: 109\tScores:\tCentennial: 0.000\tMean: -0.005\tMin: -0.010\tMax:0.000\tDuration: 0.19s\n",
      "Episode :: 110\tScores:\tCentennial: 0.000\tMean: -0.005\tMin: -0.010\tMax:0.000\tDuration: 0.10s\n",
      "Episode :: 111\tScores:\tCentennial: 0.000\tMean: -0.005\tMin: -0.010\tMax:0.000\tDuration: 0.10s\n",
      "Episode :: 112\tScores:\tCentennial: 0.000\tMean: -0.005\tMin: -0.010\tMax:0.000\tDuration: 0.19s\n",
      "Episode :: 113\tScores:\tCentennial: 0.000\tMean: -0.005\tMin: -0.010\tMax:0.000\tDuration: 0.11s\n",
      "Episode :: 114\tScores:\tCentennial: 0.000\tMean: -0.005\tMin: -0.010\tMax:0.000\tDuration: 0.20s\n",
      "Episode :: 115\tScores:\tCentennial: 0.000\tMean: -0.005\tMin: -0.010\tMax:0.000\tDuration: 0.11s\n",
      "Episode :: 116\tScores:\tCentennial: 0.000\tMean: -0.005\tMin: -0.010\tMax:0.000\tDuration: 0.10s\n",
      "Episode :: 117\tScores:\tCentennial: 0.000\tMean: -0.005\tMin: -0.010\tMax:0.000\tDuration: 0.20s\n",
      "Episode :: 118\tScores:\tCentennial: 0.000\tMean: -0.005\tMin: -0.010\tMax:0.000\tDuration: 0.10s\n",
      "Episode :: 119\tScores:\tCentennial: 0.000\tMean: -0.005\tMin: -0.010\tMax:0.000\tDuration: 0.19s\n",
      "Episode :: 120\tScores:\tCentennial: 0.000\tMean: -0.005\tMin: -0.010\tMax:0.000\tDuration: 0.12s\n",
      "Episode :: 121\tScores:\tCentennial: 0.000\tMean: -0.005\tMin: -0.010\tMax:0.000\tDuration: 0.20s\n",
      "Episode :: 122\tScores:\tCentennial: 0.000\tMean: -0.005\tMin: -0.010\tMax:0.000\tDuration: 0.10s\n",
      "Episode :: 123\tScores:\tCentennial: 0.000\tMean: -0.005\tMin: -0.010\tMax:0.000\tDuration: 0.12s\n",
      "Episode :: 124\tScores:\tCentennial: 0.000\tMean: -0.005\tMin: -0.010\tMax:0.000\tDuration: 0.19s\n",
      "Episode :: 125\tScores:\tCentennial: 0.000\tMean: -0.005\tMin: -0.010\tMax:0.000\tDuration: 0.10s\n",
      "Episode :: 126\tScores:\tCentennial: 0.000\tMean: -0.005\tMin: -0.010\tMax:0.000\tDuration: 0.18s\n",
      "Episode :: 127\tScores:\tCentennial: 0.000\tMean: -0.005\tMin: -0.010\tMax:0.000\tDuration: 0.11s\n",
      "Episode :: 128\tScores:\tCentennial: 0.000\tMean: -0.005\tMin: -0.010\tMax:0.000\tDuration: 0.18s\n",
      "Episode :: 129\tScores:\tCentennial: 0.000\tMean: -0.005\tMin: -0.010\tMax:0.000\tDuration: 0.10s\n",
      "Episode :: 130\tScores:\tCentennial: 0.000\tMean: -0.005\tMin: -0.010\tMax:0.000\tDuration: 0.10s\n",
      "Episode :: 131\tScores:\tCentennial: 0.000\tMean: -0.005\tMin: -0.010\tMax:0.000\tDuration: 0.20s\n",
      "Episode :: 132\tScores:\tCentennial: 0.000\tMean: -0.005\tMin: -0.010\tMax:0.000\tDuration: 0.11s\n",
      "Episode :: 133\tScores:\tCentennial: 0.000\tMean: -0.005\tMin: -0.010\tMax:0.000\tDuration: 0.19s\n",
      "Episode :: 134\tScores:\tCentennial: 0.000\tMean: -0.005\tMin: -0.010\tMax:0.000\tDuration: 0.11s\n",
      "Episode :: 135\tScores:\tCentennial: 0.000\tMean: -0.005\tMin: -0.010\tMax:0.000\tDuration: 0.11s\n",
      "Episode :: 136\tScores:\tCentennial: 0.000\tMean: -0.005\tMin: -0.010\tMax:0.000\tDuration: 0.19s\n",
      "Episode :: 137\tScores:\tCentennial: 0.000\tMean: -0.005\tMin: -0.010\tMax:0.000\tDuration: 0.11s\n",
      "Episode :: 138\tScores:\tCentennial: 0.000\tMean: -0.005\tMin: -0.010\tMax:0.000\tDuration: 0.18s\n",
      "Episode :: 139\tScores:\tCentennial: 0.000\tMean: -0.005\tMin: -0.010\tMax:0.000\tDuration: 0.10s\n",
      "Episode :: 140\tScores:\tCentennial: 0.000\tMean: -0.005\tMin: -0.010\tMax:0.000\tDuration: 0.18s\n",
      "Episode :: 141\tScores:\tCentennial: 0.000\tMean: -0.005\tMin: -0.010\tMax:0.000\tDuration: 0.13s\n",
      "Episode :: 142\tScores:\tCentennial: 0.000\tMean: -0.005\tMin: -0.010\tMax:0.000\tDuration: 0.14s\n",
      "Episode :: 143\tScores:\tCentennial: 0.000\tMean: -0.005\tMin: -0.010\tMax:0.000\tDuration: 0.18s\n",
      "Episode :: 144\tScores:\tCentennial: 0.000\tMean: -0.005\tMin: -0.010\tMax:0.000\tDuration: 0.11s\n",
      "Episode :: 145\tScores:\tCentennial: 0.000\tMean: -0.005\tMin: -0.010\tMax:0.000\tDuration: 0.22s\n",
      "Episode :: 146\tScores:\tCentennial: 0.000\tMean: -0.005\tMin: -0.010\tMax:0.000\tDuration: 0.12s\n",
      "Episode :: 147\tScores:\tCentennial: 0.000\tMean: -0.005\tMin: -0.010\tMax:0.000\tDuration: 0.19s\n",
      "Episode :: 148\tScores:\tCentennial: 0.000\tMean: -0.005\tMin: -0.010\tMax:0.000\tDuration: 0.10s\n",
      "Episode :: 149\tScores:\tCentennial: 0.000\tMean: -0.005\tMin: -0.010\tMax:0.000\tDuration: 0.11s\n",
      "Episode :: 150\tScores:\tCentennial: 0.000\tMean: -0.005\tMin: -0.010\tMax:0.000\tDuration: 0.20s\n",
      "Episode :: 151\tScores:\tCentennial: 0.000\tMean: -0.005\tMin: -0.010\tMax:0.000\tDuration: 0.11s\n",
      "Episode :: 152\tScores:\tCentennial: 0.000\tMean: -0.005\tMin: -0.010\tMax:0.000\tDuration: 0.20s\n",
      "Episode :: 153\tScores:\tCentennial: 0.000\tMean: -0.005\tMin: -0.010\tMax:0.000\tDuration: 0.11s\n",
      "Episode :: 154\tScores:\tCentennial: 0.000\tMean: -0.005\tMin: -0.010\tMax:0.000\tDuration: 0.10s\n",
      "Episode :: 155\tScores:\tCentennial: 0.000\tMean: -0.005\tMin: -0.010\tMax:0.000\tDuration: 0.21s\n",
      "Episode :: 156\tScores:\tCentennial: 0.000\tMean: -0.005\tMin: -0.010\tMax:0.000\tDuration: 0.10s\n",
      "Episode :: 157\tScores:\tCentennial: 0.000\tMean: -0.005\tMin: -0.010\tMax:0.000\tDuration: 0.20s\n",
      "Episode :: 158\tScores:\tCentennial: 0.000\tMean: -0.005\tMin: -0.010\tMax:0.000\tDuration: 0.11s\n",
      "Episode :: 159\tScores:\tCentennial: 0.000\tMean: -0.005\tMin: -0.010\tMax:0.000\tDuration: 0.18s\n",
      "Episode :: 160\tScores:\tCentennial: 0.000\tMean: -0.005\tMin: -0.010\tMax:0.000\tDuration: 0.10s\n",
      "Episode :: 161\tScores:\tCentennial: 0.000\tMean: -0.005\tMin: -0.010\tMax:0.000\tDuration: 0.10s\n",
      "Episode :: 162\tScores:\tCentennial: 0.000\tMean: -0.005\tMin: -0.010\tMax:0.000\tDuration: 0.18s\n",
      "Episode :: 163\tScores:\tCentennial: 0.000\tMean: -0.005\tMin: -0.010\tMax:0.000\tDuration: 0.10s\n",
      "Episode :: 164\tScores:\tCentennial: 0.000\tMean: -0.005\tMin: -0.010\tMax:0.000\tDuration: 0.18s\n",
      "Episode :: 165\tScores:\tCentennial: 0.000\tMean: -0.005\tMin: -0.010\tMax:0.000\tDuration: 0.10s\n",
      "Episode :: 166\tScores:\tCentennial: 0.000\tMean: -0.005\tMin: -0.010\tMax:0.000\tDuration: 0.10s\n",
      "Episode :: 167\tScores:\tCentennial: 0.000\tMean: -0.005\tMin: -0.010\tMax:0.000\tDuration: 0.19s\n",
      "Episode :: 168\tScores:\tCentennial: 0.000\tMean: -0.005\tMin: -0.010\tMax:0.000\tDuration: 0.10s\n",
      "Episode :: 169\tScores:\tCentennial: 0.000\tMean: -0.005\tMin: -0.010\tMax:0.000\tDuration: 0.18s\n",
      "Episode :: 170\tScores:\tCentennial: 0.000\tMean: -0.005\tMin: -0.010\tMax:0.000\tDuration: 0.10s\n",
      "Episode :: 171\tScores:\tCentennial: 0.000\tMean: -0.005\tMin: -0.010\tMax:0.000\tDuration: 0.18s\n",
      "Episode :: 172\tScores:\tCentennial: 0.000\tMean: -0.005\tMin: -0.010\tMax:0.000\tDuration: 0.10s\n",
      "Episode :: 173\tScores:\tCentennial: 0.000\tMean: -0.005\tMin: -0.010\tMax:0.000\tDuration: 0.10s\n",
      "Episode :: 174\tScores:\tCentennial: 0.000\tMean: -0.005\tMin: -0.010\tMax:0.000\tDuration: 0.18s\n",
      "Episode :: 175\tScores:\tCentennial: 0.000\tMean: -0.005\tMin: -0.010\tMax:0.000\tDuration: 0.10s\n",
      "Episode :: 176\tScores:\tCentennial: 0.000\tMean: -0.005\tMin: -0.010\tMax:0.000\tDuration: 0.18s\n",
      "Episode :: 177\tScores:\tCentennial: 0.000\tMean: -0.005\tMin: -0.010\tMax:0.000\tDuration: 0.10s\n",
      "Episode :: 178\tScores:\tCentennial: 0.000\tMean: -0.005\tMin: -0.010\tMax:0.000\tDuration: 0.18s\n",
      "Episode :: 179\tScores:\tCentennial: 0.000\tMean: -0.005\tMin: -0.010\tMax:0.000\tDuration: 0.11s\n",
      "Episode :: 180\tScores:\tCentennial: 0.000\tMean: -0.005\tMin: -0.010\tMax:0.000\tDuration: 0.10s\n",
      "Episode :: 181\tScores:\tCentennial: 0.000\tMean: -0.005\tMin: -0.010\tMax:0.000\tDuration: 0.19s\n",
      "Episode :: 182\tScores:\tCentennial: 0.000\tMean: -0.005\tMin: -0.010\tMax:0.000\tDuration: 0.10s\n",
      "Episode :: 183\tScores:\tCentennial: 0.000\tMean: -0.005\tMin: -0.010\tMax:0.000\tDuration: 0.19s\n",
      "Episode :: 184\tScores:\tCentennial: 0.000\tMean: -0.005\tMin: -0.010\tMax:0.000\tDuration: 0.10s\n",
      "Episode :: 185\tScores:\tCentennial: 0.000\tMean: -0.005\tMin: -0.010\tMax:0.000\tDuration: 0.10s\n",
      "Episode :: 186\tScores:\tCentennial: 0.000\tMean: -0.005\tMin: -0.010\tMax:0.000\tDuration: 0.18s\n",
      "Episode :: 187\tScores:\tCentennial: 0.000\tMean: -0.005\tMin: -0.010\tMax:0.000\tDuration: 0.11s\n",
      "Episode :: 188\tScores:\tCentennial: 0.000\tMean: -0.005\tMin: -0.010\tMax:0.000\tDuration: 0.18s\n",
      "Episode :: 189\tScores:\tCentennial: 0.000\tMean: -0.005\tMin: -0.010\tMax:0.000\tDuration: 0.10s\n",
      "Episode :: 190\tScores:\tCentennial: 0.000\tMean: -0.005\tMin: -0.010\tMax:0.000\tDuration: 0.18s\n"
     ]
    },
    {
     "name": "stdout",
     "output_type": "stream",
     "text": [
      "Episode :: 191\tScores:\tCentennial: 0.000\tMean: -0.005\tMin: -0.010\tMax:0.000\tDuration: 0.10s\n",
      "Episode :: 192\tScores:\tCentennial: 0.000\tMean: -0.005\tMin: -0.010\tMax:0.000\tDuration: 0.10s\n",
      "Episode :: 193\tScores:\tCentennial: 0.000\tMean: -0.005\tMin: -0.010\tMax:0.000\tDuration: 0.20s\n",
      "Episode :: 194\tScores:\tCentennial: 0.000\tMean: -0.005\tMin: -0.010\tMax:0.000\tDuration: 0.11s\n",
      "Episode :: 195\tScores:\tCentennial: 0.000\tMean: -0.005\tMin: -0.010\tMax:0.000\tDuration: 0.20s\n",
      "Episode :: 196\tScores:\tCentennial: 0.000\tMean: -0.005\tMin: -0.010\tMax:0.000\tDuration: 0.12s\n",
      "Episode :: 197\tScores:\tCentennial: 0.000\tMean: -0.005\tMin: -0.010\tMax:0.000\tDuration: 0.20s\n",
      "Episode :: 198\tScores:\tCentennial: 0.000\tMean: -0.005\tMin: -0.010\tMax:0.000\tDuration: 0.11s\n",
      "Episode :: 199\tScores:\tCentennial: 0.000\tMean: -0.005\tMin: -0.010\tMax:0.000\tDuration: 0.11s\n",
      "Episode :: 200\tScores:\tCentennial: 0.000\tMean: -0.005\tMin: -0.010\tMax:0.000\tDuration: 0.20s\n"
     ]
    },
    {
     "data": {
      "image/png": "[encoded data removed]",
      "text/plain": [
       "<Figure size 432x288 with 1 Axes>"
      ]
     },
     "metadata": {
      "needs_background": "light"
     },
     "output_type": "display_data"
    },
    {
     "data": {
      "image/png": "[encoded data removed]",
      "text/plain": [
       "<Figure size 432x288 with 1 Axes>"
      ]
     },
     "metadata": {
      "needs_background": "light"
     },
     "output_type": "display_data"
    },
    {
     "data": {
      "image/png": "[encoded data removed]",
      "text/plain": [
       "<Figure size 432x288 with 1 Axes>"
      ]
     },
     "metadata": {
      "needs_background": "light"
     },
     "output_type": "display_data"
    },
    {
     "data": {
      "image/png": "[encoded data removed]",
      "text/plain": [
       "<Figure size 432x288 with 1 Axes>"
      ]
     },
     "metadata": {
      "needs_background": "light"
     },
     "output_type": "display_data"
    },
    {
     "name": "stdout",
     "output_type": "stream",
     "text": [
      "Episode :: 201\tScores:\tCentennial: 0.000\tMean: -0.005\tMin: -0.010\tMax:0.000\tDuration: 0.11s\n",
      "Episode :: 202\tScores:\tCentennial: 0.000\tMean: -0.005\tMin: -0.010\tMax:0.000\tDuration: 0.18s\n",
      "Episode :: 203\tScores:\tCentennial: 0.000\tMean: -0.005\tMin: -0.010\tMax:0.000\tDuration: 0.10s\n",
      "Episode :: 204\tScores:\tCentennial: 0.000\tMean: -0.005\tMin: -0.010\tMax:0.000\tDuration: 0.11s\n",
      "Episode :: 205\tScores:\tCentennial: 0.000\tMean: -0.005\tMin: -0.010\tMax:0.000\tDuration: 0.20s\n",
      "Episode :: 206\tScores:\tCentennial: 0.000\tMean: -0.005\tMin: -0.010\tMax:0.000\tDuration: 0.10s\n",
      "Episode :: 207\tScores:\tCentennial: 0.000\tMean: -0.005\tMin: -0.010\tMax:0.000\tDuration: 0.20s\n",
      "Episode :: 208\tScores:\tCentennial: 0.000\tMean: -0.005\tMin: -0.010\tMax:0.000\tDuration: 0.11s\n",
      "Episode :: 209\tScores:\tCentennial: 0.000\tMean: -0.005\tMin: -0.010\tMax:0.000\tDuration: 0.19s\n",
      "Episode :: 210\tScores:\tCentennial: 0.000\tMean: -0.005\tMin: -0.010\tMax:0.000\tDuration: 0.10s\n",
      "Episode :: 211\tScores:\tCentennial: 0.000\tMean: -0.005\tMin: -0.010\tMax:0.000\tDuration: 0.11s\n",
      "Episode :: 212\tScores:\tCentennial: 0.000\tMean: -0.005\tMin: -0.010\tMax:0.000\tDuration: 0.19s\n",
      "Episode :: 213\tScores:\tCentennial: 0.000\tMean: -0.005\tMin: -0.010\tMax:0.000\tDuration: 0.11s\n",
      "Episode :: 214\tScores:\tCentennial: 0.000\tMean: -0.005\tMin: -0.010\tMax:0.000\tDuration: 0.20s\n",
      "Episode :: 215\tScores:\tCentennial: 0.000\tMean: -0.005\tMin: -0.010\tMax:0.000\tDuration: 0.11s\n",
      "Episode :: 216\tScores:\tCentennial: 0.000\tMean: -0.005\tMin: -0.010\tMax:0.000\tDuration: 0.11s\n",
      "Episode :: 217\tScores:\tCentennial: 0.000\tMean: -0.005\tMin: -0.010\tMax:0.000\tDuration: 0.20s\n",
      "Episode :: 218\tScores:\tCentennial: 0.000\tMean: -0.005\tMin: -0.010\tMax:0.000\tDuration: 0.12s\n",
      "Episode :: 219\tScores:\tCentennial: 0.000\tMean: -0.005\tMin: -0.010\tMax:0.000\tDuration: 0.20s\n",
      "Episode :: 220\tScores:\tCentennial: 0.000\tMean: -0.005\tMin: -0.010\tMax:0.000\tDuration: 0.11s\n",
      "Episode :: 221\tScores:\tCentennial: 0.000\tMean: -0.005\tMin: -0.010\tMax:0.000\tDuration: 0.19s\n",
      "Episode :: 222\tScores:\tCentennial: 0.000\tMean: -0.005\tMin: -0.010\tMax:0.000\tDuration: 0.10s\n",
      "Episode :: 223\tScores:\tCentennial: 0.000\tMean: -0.005\tMin: -0.010\tMax:0.000\tDuration: 0.11s\n",
      "Episode :: 224\tScores:\tCentennial: 0.000\tMean: -0.005\tMin: -0.010\tMax:0.000\tDuration: 0.19s\n",
      "Episode :: 225\tScores:\tCentennial: 0.000\tMean: -0.005\tMin: -0.010\tMax:0.000\tDuration: 0.11s\n",
      "Episode :: 226\tScores:\tCentennial: 0.000\tMean: -0.005\tMin: -0.010\tMax:0.000\tDuration: 0.19s\n",
      "Episode :: 227\tScores:\tCentennial: 0.000\tMean: -0.005\tMin: -0.010\tMax:0.000\tDuration: 0.11s\n",
      "Episode :: 228\tScores:\tCentennial: 0.000\tMean: -0.005\tMin: -0.010\tMax:0.000\tDuration: 0.18s\n",
      "Episode :: 229\tScores:\tCentennial: 0.000\tMean: -0.005\tMin: -0.010\tMax:0.000\tDuration: 0.10s\n",
      "Episode :: 230\tScores:\tCentennial: 0.000\tMean: -0.005\tMin: -0.010\tMax:0.000\tDuration: 0.10s\n",
      "Episode :: 231\tScores:\tCentennial: 0.000\tMean: -0.005\tMin: -0.010\tMax:0.000\tDuration: 0.19s\n",
      "Episode :: 232\tScores:\tCentennial: 0.000\tMean: -0.005\tMin: -0.010\tMax:0.000\tDuration: 0.10s\n",
      "Episode :: 233\tScores:\tCentennial: 0.000\tMean: -0.005\tMin: -0.010\tMax:0.000\tDuration: 0.19s\n",
      "Episode :: 234\tScores:\tCentennial: 0.000\tMean: -0.005\tMin: -0.010\tMax:0.000\tDuration: 0.10s\n",
      "Episode :: 235\tScores:\tCentennial: 0.000\tMean: -0.005\tMin: -0.010\tMax:0.000\tDuration: 0.10s\n",
      "Episode :: 236\tScores:\tCentennial: 0.000\tMean: -0.005\tMin: -0.010\tMax:0.000\tDuration: 0.18s\n",
      "Episode :: 237\tScores:\tCentennial: 0.000\tMean: -0.005\tMin: -0.010\tMax:0.000\tDuration: 0.10s\n",
      "Episode :: 238\tScores:\tCentennial: 0.000\tMean: -0.005\tMin: -0.010\tMax:0.000\tDuration: 0.18s\n",
      "Episode :: 239\tScores:\tCentennial: 0.000\tMean: -0.005\tMin: -0.010\tMax:0.000\tDuration: 0.10s\n",
      "Episode :: 240\tScores:\tCentennial: 0.000\tMean: -0.005\tMin: -0.010\tMax:0.000\tDuration: 0.18s\n",
      "Episode :: 241\tScores:\tCentennial: 0.000\tMean: -0.005\tMin: -0.010\tMax:0.000\tDuration: 0.10s\n",
      "Episode :: 242\tScores:\tCentennial: 0.000\tMean: -0.005\tMin: -0.010\tMax:0.000\tDuration: 0.10s\n",
      "Episode :: 243\tScores:\tCentennial: 0.000\tMean: -0.005\tMin: -0.010\tMax:0.000\tDuration: 0.19s\n",
      "Episode :: 244\tScores:\tCentennial: 0.000\tMean: -0.005\tMin: -0.010\tMax:0.000\tDuration: 0.10s\n",
      "Episode :: 245\tScores:\tCentennial: 0.000\tMean: -0.005\tMin: -0.010\tMax:0.000\tDuration: 0.20s\n",
      "Episode :: 246\tScores:\tCentennial: 0.000\tMean: -0.005\tMin: -0.010\tMax:0.000\tDuration: 0.10s\n",
      "Episode :: 247\tScores:\tCentennial: 0.000\tMean: -0.005\tMin: -0.010\tMax:0.000\tDuration: 0.20s\n",
      "Episode :: 248\tScores:\tCentennial: 0.000\tMean: -0.005\tMin: -0.010\tMax:0.000\tDuration: 0.11s\n",
      "Episode :: 249\tScores:\tCentennial: 0.000\tMean: -0.005\tMin: -0.010\tMax:0.000\tDuration: 0.11s\n",
      "Episode :: 250\tScores:\tCentennial: 0.000\tMean: -0.005\tMin: -0.010\tMax:0.000\tDuration: 0.19s\n",
      "Episode :: 251\tScores:\tCentennial: 0.000\tMean: -0.005\tMin: -0.010\tMax:0.000\tDuration: 0.11s\n",
      "Episode :: 252\tScores:\tCentennial: 0.000\tMean: -0.005\tMin: -0.010\tMax:0.000\tDuration: 0.20s\n",
      "Episode :: 253\tScores:\tCentennial: 0.000\tMean: -0.005\tMin: -0.010\tMax:0.000\tDuration: 0.11s\n",
      "Episode :: 254\tScores:\tCentennial: 0.000\tMean: -0.005\tMin: -0.010\tMax:0.000\tDuration: 0.11s\n",
      "Episode :: 255\tScores:\tCentennial: 0.000\tMean: -0.005\tMin: -0.010\tMax:0.000\tDuration: 0.19s\n"
     ]
    },
    {
     "ename": "KeyboardInterrupt",
     "evalue": "",
     "output_type": "error",
     "traceback": [
      "\u001b[0;31m---------------------------------------------------------------------------\u001b[0m",
      "\u001b[0;31mKeyboardInterrupt\u001b[0m                         Traceback (most recent call last)",
      "\u001b[0;32m<ipython-input-5-883a940c4d0d>\u001b[0m in \u001b[0;36m<module>\u001b[0;34m\u001b[0m\n\u001b[0;32m----> 1\u001b[0;31m \u001b[0magent\u001b[0m\u001b[0;34m,\u001b[0m \u001b[0mtracker\u001b[0m \u001b[0;34m=\u001b[0m \u001b[0mtrainer\u001b[0m\u001b[0;34m.\u001b[0m\u001b[0mtrain\u001b[0m\u001b[0;34m(\u001b[0m\u001b[0mn_episodes\u001b[0m\u001b[0;34m=\u001b[0m\u001b[0;36m2000\u001b[0m\u001b[0;34m,\u001b[0m \u001b[0mplot_every\u001b[0m\u001b[0;34m=\u001b[0m\u001b[0;36m100\u001b[0m\u001b[0;34m,\u001b[0m \u001b[0mlearn_every\u001b[0m\u001b[0;34m=\u001b[0m\u001b[0;36m10\u001b[0m\u001b[0;34m,\u001b[0m \u001b[0miterations_per_learn\u001b[0m\u001b[0;34m=\u001b[0m\u001b[0;36m10\u001b[0m\u001b[0;34m,\u001b[0m \u001b[0mgoal_score\u001b[0m\u001b[0;34m=\u001b[0m\u001b[0;36m0.5\u001b[0m\u001b[0;34m)\u001b[0m\u001b[0;34m\u001b[0m\u001b[0;34m\u001b[0m\u001b[0m\n\u001b[0m",
      "\u001b[0;32m/data/code/nd/deep-learning/reinforced/DRL-MultiAgent-Collaboration/trainer.py\u001b[0m in \u001b[0;36mtrain\u001b[0;34m(self, n_episodes, max_steps, plot_every, learn_every, iterations_per_learn, goal_score, save_every)\u001b[0m\n\u001b[1;32m     58\u001b[0m                 \u001b[0mnext_states\u001b[0m\u001b[0;34m,\u001b[0m \u001b[0mrewards\u001b[0m\u001b[0;34m,\u001b[0m \u001b[0mdones\u001b[0m \u001b[0;34m=\u001b[0m \u001b[0mobservation\u001b[0m\u001b[0;34m.\u001b[0m\u001b[0mvector_observations\u001b[0m\u001b[0;34m,\u001b[0m \u001b[0mobservation\u001b[0m\u001b[0;34m.\u001b[0m\u001b[0mrewards\u001b[0m\u001b[0;34m,\u001b[0m \u001b[0mobservation\u001b[0m\u001b[0;34m.\u001b[0m\u001b[0mlocal_done\u001b[0m\u001b[0;34m\u001b[0m\u001b[0;34m\u001b[0m\u001b[0m\n\u001b[1;32m     59\u001b[0m                 \u001b[0;32massert\u001b[0m \u001b[0mnext_states\u001b[0m\u001b[0;34m.\u001b[0m\u001b[0mshape\u001b[0m\u001b[0;34m[\u001b[0m\u001b[0;36m0\u001b[0m\u001b[0;34m]\u001b[0m \u001b[0;34m==\u001b[0m \u001b[0mself\u001b[0m\u001b[0;34m.\u001b[0m\u001b[0mnum_agents\u001b[0m\u001b[0;34m,\u001b[0m \u001b[0;34m\"{} agents in environment, but received only {} observation states\"\u001b[0m\u001b[0;34m.\u001b[0m\u001b[0mformat\u001b[0m\u001b[0;34m(\u001b[0m\u001b[0mself\u001b[0m\u001b[0;34m.\u001b[0m\u001b[0mnum_agents\u001b[0m\u001b[0;34m,\u001b[0m \u001b[0mnext\u001b[0m\u001b[0;34m.\u001b[0m\u001b[0mshape\u001b[0m\u001b[0;34m[\u001b[0m\u001b[0;36m0\u001b[0m\u001b[0;34m]\u001b[0m\u001b[0;34m)\u001b[0m\u001b[0;34m\u001b[0m\u001b[0;34m\u001b[0m\u001b[0m\n\u001b[0;32m---> 60\u001b[0;31m                 \u001b[0magent\u001b[0m\u001b[0;34m.\u001b[0m\u001b[0mstep\u001b[0m\u001b[0;34m(\u001b[0m\u001b[0mstates\u001b[0m\u001b[0;34m,\u001b[0m \u001b[0mactions\u001b[0m\u001b[0;34m,\u001b[0m \u001b[0mrewards\u001b[0m\u001b[0;34m,\u001b[0m \u001b[0mnext_states\u001b[0m\u001b[0;34m,\u001b[0m \u001b[0mdones\u001b[0m\u001b[0;34m)\u001b[0m\u001b[0;34m\u001b[0m\u001b[0;34m\u001b[0m\u001b[0m\n\u001b[0m\u001b[1;32m     61\u001b[0m                 \u001b[0mtracker\u001b[0m\u001b[0;34m.\u001b[0m\u001b[0mstep\u001b[0m\u001b[0;34m(\u001b[0m\u001b[0mi_episode\u001b[0m\u001b[0;34m,\u001b[0m \u001b[0mrewards\u001b[0m\u001b[0;34m,\u001b[0m \u001b[0mdones\u001b[0m\u001b[0;34m)\u001b[0m\u001b[0;34m\u001b[0m\u001b[0;34m\u001b[0m\u001b[0m\n\u001b[1;32m     62\u001b[0m                 \u001b[0mstates\u001b[0m \u001b[0;34m=\u001b[0m \u001b[0mnext_states\u001b[0m\u001b[0;34m\u001b[0m\u001b[0;34m\u001b[0m\u001b[0m\n",
      "\u001b[0;32m/data/code/nd/deep-learning/reinforced/DRL-MultiAgent-Collaboration/agent.py\u001b[0m in \u001b[0;36mstep\u001b[0;34m(self, states, actions, rewards, next_states, dones)\u001b[0m\n\u001b[1;32m    112\u001b[0m             \u001b[0;32mfor\u001b[0m \u001b[0mi\u001b[0m \u001b[0;32min\u001b[0m \u001b[0mrange\u001b[0m\u001b[0;34m(\u001b[0m\u001b[0mself\u001b[0m\u001b[0;34m.\u001b[0m\u001b[0miterations_per_learn\u001b[0m\u001b[0;34m)\u001b[0m\u001b[0;34m:\u001b[0m\u001b[0;34m\u001b[0m\u001b[0;34m\u001b[0m\u001b[0m\n\u001b[1;32m    113\u001b[0m                 \u001b[0mexperiences\u001b[0m \u001b[0;34m=\u001b[0m \u001b[0mself\u001b[0m\u001b[0;34m.\u001b[0m\u001b[0mmemory\u001b[0m\u001b[0;34m.\u001b[0m\u001b[0msample\u001b[0m\u001b[0;34m(\u001b[0m\u001b[0;34m)\u001b[0m\u001b[0;34m\u001b[0m\u001b[0;34m\u001b[0m\u001b[0m\n\u001b[0;32m--> 114\u001b[0;31m                 \u001b[0mself\u001b[0m\u001b[0;34m.\u001b[0m\u001b[0mlearn\u001b[0m\u001b[0;34m(\u001b[0m\u001b[0mexperiences\u001b[0m\u001b[0;34m,\u001b[0m \u001b[0mGAMMA\u001b[0m\u001b[0;34m)\u001b[0m\u001b[0;34m\u001b[0m\u001b[0;34m\u001b[0m\u001b[0m\n\u001b[0m\u001b[1;32m    115\u001b[0m \u001b[0;34m\u001b[0m\u001b[0m\n\u001b[1;32m    116\u001b[0m     \u001b[0;32mdef\u001b[0m \u001b[0mact\u001b[0m\u001b[0;34m(\u001b[0m\u001b[0mself\u001b[0m\u001b[0;34m,\u001b[0m \u001b[0mstates\u001b[0m\u001b[0;34m,\u001b[0m \u001b[0madd_noise\u001b[0m\u001b[0;34m=\u001b[0m\u001b[0;32mTrue\u001b[0m\u001b[0;34m)\u001b[0m\u001b[0;34m:\u001b[0m\u001b[0;34m\u001b[0m\u001b[0;34m\u001b[0m\u001b[0m\n",
      "\u001b[0;32m/data/code/nd/deep-learning/reinforced/DRL-MultiAgent-Collaboration/agent.py\u001b[0m in \u001b[0;36mlearn\u001b[0;34m(self, experiences, gamma)\u001b[0m\n\u001b[1;32m    170\u001b[0m         \u001b[0;31m# ----------------------- update target networks ----------------------- #\u001b[0m\u001b[0;34m\u001b[0m\u001b[0;34m\u001b[0m\u001b[0;34m\u001b[0m\u001b[0m\n\u001b[1;32m    171\u001b[0m         \u001b[0mself\u001b[0m\u001b[0;34m.\u001b[0m\u001b[0msoft_update\u001b[0m\u001b[0;34m(\u001b[0m\u001b[0mself\u001b[0m\u001b[0;34m.\u001b[0m\u001b[0mcritic_local\u001b[0m\u001b[0;34m,\u001b[0m \u001b[0mself\u001b[0m\u001b[0;34m.\u001b[0m\u001b[0mcritic_target\u001b[0m\u001b[0;34m,\u001b[0m \u001b[0mTAU\u001b[0m\u001b[0;34m)\u001b[0m\u001b[0;34m\u001b[0m\u001b[0;34m\u001b[0m\u001b[0m\n\u001b[0;32m--> 172\u001b[0;31m         \u001b[0mself\u001b[0m\u001b[0;34m.\u001b[0m\u001b[0msoft_update\u001b[0m\u001b[0;34m(\u001b[0m\u001b[0mself\u001b[0m\u001b[0;34m.\u001b[0m\u001b[0mactor_local\u001b[0m\u001b[0;34m,\u001b[0m \u001b[0mself\u001b[0m\u001b[0;34m.\u001b[0m\u001b[0mactor_target\u001b[0m\u001b[0;34m,\u001b[0m \u001b[0mTAU\u001b[0m\u001b[0;34m)\u001b[0m\u001b[0;34m\u001b[0m\u001b[0;34m\u001b[0m\u001b[0m\n\u001b[0m\u001b[1;32m    173\u001b[0m \u001b[0;34m\u001b[0m\u001b[0m\n\u001b[1;32m    174\u001b[0m     \u001b[0;32mdef\u001b[0m \u001b[0msoft_update\u001b[0m\u001b[0;34m(\u001b[0m\u001b[0mself\u001b[0m\u001b[0;34m,\u001b[0m \u001b[0mlocal_model\u001b[0m\u001b[0;34m,\u001b[0m \u001b[0mtarget_model\u001b[0m\u001b[0;34m,\u001b[0m \u001b[0mtau\u001b[0m\u001b[0;34m)\u001b[0m\u001b[0;34m:\u001b[0m\u001b[0;34m\u001b[0m\u001b[0;34m\u001b[0m\u001b[0m\n",
      "\u001b[0;32m/data/code/nd/deep-learning/reinforced/DRL-MultiAgent-Collaboration/agent.py\u001b[0m in \u001b[0;36msoft_update\u001b[0;34m(self, local_model, target_model, tau)\u001b[0m\n\u001b[1;32m    183\u001b[0m         \"\"\"\n\u001b[1;32m    184\u001b[0m         \u001b[0;32mfor\u001b[0m \u001b[0mtarget_param\u001b[0m\u001b[0;34m,\u001b[0m \u001b[0mlocal_param\u001b[0m \u001b[0;32min\u001b[0m \u001b[0mzip\u001b[0m\u001b[0;34m(\u001b[0m\u001b[0mtarget_model\u001b[0m\u001b[0;34m.\u001b[0m\u001b[0mparameters\u001b[0m\u001b[0;34m(\u001b[0m\u001b[0;34m)\u001b[0m\u001b[0;34m,\u001b[0m \u001b[0mlocal_model\u001b[0m\u001b[0;34m.\u001b[0m\u001b[0mparameters\u001b[0m\u001b[0;34m(\u001b[0m\u001b[0;34m)\u001b[0m\u001b[0;34m)\u001b[0m\u001b[0;34m:\u001b[0m\u001b[0;34m\u001b[0m\u001b[0;34m\u001b[0m\u001b[0m\n\u001b[0;32m--> 185\u001b[0;31m             \u001b[0mtarget_param\u001b[0m\u001b[0;34m.\u001b[0m\u001b[0mdata\u001b[0m\u001b[0;34m.\u001b[0m\u001b[0mcopy_\u001b[0m\u001b[0;34m(\u001b[0m\u001b[0mtau\u001b[0m\u001b[0;34m*\u001b[0m\u001b[0mlocal_param\u001b[0m\u001b[0;34m.\u001b[0m\u001b[0mdata\u001b[0m \u001b[0;34m+\u001b[0m \u001b[0;34m(\u001b[0m\u001b[0;36m1.0\u001b[0m\u001b[0;34m-\u001b[0m\u001b[0mtau\u001b[0m\u001b[0;34m)\u001b[0m\u001b[0;34m*\u001b[0m\u001b[0mtarget_param\u001b[0m\u001b[0;34m.\u001b[0m\u001b[0mdata\u001b[0m\u001b[0;34m)\u001b[0m\u001b[0;34m\u001b[0m\u001b[0;34m\u001b[0m\u001b[0m\n\u001b[0m\u001b[1;32m    186\u001b[0m \u001b[0;34m\u001b[0m\u001b[0m\n\u001b[1;32m    187\u001b[0m \u001b[0;32mclass\u001b[0m \u001b[0mOUNoise\u001b[0m\u001b[0;34m:\u001b[0m\u001b[0;34m\u001b[0m\u001b[0;34m\u001b[0m\u001b[0m\n",
      "\u001b[0;31mKeyboardInterrupt\u001b[0m: "
     ]
    }
   ],
   "source": [
    "agent, tracker = trainer.train(n_episodes=2000, plot_every=100, learn_every=10, iterations_per_learn=10, goal_score=0.5)"
   ]
  },
  {
   "cell_type": "code",
   "execution_count": null,
   "metadata": {},
   "outputs": [],
   "source": [
    "print (\"Performance plots\")\n",
    "tracker.plot_performance()"
   ]
  },
  {
   "cell_type": "markdown",
   "metadata": {},
   "source": [
    "Now we will utilize the agent that was trained above, to play an actual game in the same environment."
   ]
  },
  {
   "cell_type": "code",
   "execution_count": null,
   "metadata": {},
   "outputs": [],
   "source": [
    "print(\"Making agent play in the existing environment\")\n",
    "trainer.play(agent)"
   ]
  },
  {
   "cell_type": "markdown",
   "metadata": {},
   "source": [
    "When finished, you can close the environment."
   ]
  },
  {
   "cell_type": "code",
   "execution_count": null,
   "metadata": {},
   "outputs": [],
   "source": [
    "env.close()"
   ]
  },
  {
   "cell_type": "markdown",
   "metadata": {},
   "source": [
    "### 4. It's Your Turn!\n",
    "\n",
    "Now it's your turn to train your own agent to solve the environment!  When training the environment, set `train_mode=True`, so that the line for resetting the environment looks like the following:\n",
    "```python\n",
    "env_info = env.reset(train_mode=True)[brain_name]\n",
    "```"
   ]
  }
 ],
 "metadata": {
  "kernelspec": {
   "display_name": "Python 3",
   "language": "python",
   "name": "python3"
  },
  "language_info": {
   "codemirror_mode": {
    "name": "ipython",
    "version": 3
   },
   "file_extension": ".py",
   "mimetype": "text/x-python",
   "name": "python",
   "nbconvert_exporter": "python",
   "pygments_lexer": "ipython3",
   "version": "3.6.7"
  }
 },
 "nbformat": 4,
 "nbformat_minor": 2
}
